{
 "cells": [
  {
   "cell_type": "markdown",
   "metadata": {},
   "source": [
    " TIPOS DE DADOS PYTHON"
   ]
  },
  {
   "cell_type": "code",
   "execution_count": 9,
   "metadata": {},
   "outputs": [
    {
     "name": "stdout",
     "output_type": "stream",
     "text": [
      "<class 'int'>\n",
      "<class 'float'>\n",
      "5\n",
      "<class 'float'>\n",
      "QUALQUER TEXTO\n",
      "qualquer texto   \n",
      "Qualquer texto\n",
      "False\n",
      "True\n",
      "QUALQUER TEXTO\n",
      "Meu texto\n",
      "9\n"
     ]
    }
   ],
   "source": [
    "# nome = \"Gabriel\" #String\n",
    "# idade = 21 #Int\n",
    "# altura = 1.70 #Float\n",
    "# homem = True/False #Boolean\n",
    "\n",
    "#-----------------Dados Inteiros e Floats ------------------------------#\n",
    "num_1 = 5   \n",
    "num_2 = 3.5\n",
    "\n",
    "# Descobrir tipo do dado:\n",
    "print(type(num_1))\n",
    "print(type(num_2))\n",
    "\n",
    "# Transformar dado para float ou para qualquer tipo de dado\n",
    "num_new = float(num_1)\n",
    "print(num_1)\n",
    "print(type(num_new)) \n",
    "\n",
    "#-----------------Manipulando Strings ------------------------------#\n",
    "minha_variavel = \"qualquer texto\"\n",
    "minha_segunda_variavel = \"QUALQUER TEXTO   \"\n",
    "print(minha_variavel.upper())# Passa texto para maiúsculo\n",
    "print(minha_segunda_variavel.lower())# Passa texto ma minuscúlo\n",
    "print(minha_variavel.capitalize())# Passa 1 letra para maiscúlo\n",
    "print(minha_variavel.isupper()) # Verifica se o texto é maiúsculo\n",
    "print(minha_variavel.islower())# Verifica se o texto é minuscúlo\n",
    "print(minha_segunda_variavel.strip())# Remove espaços antes e depois do texto\n",
    "print(minha_variavel.replace(\"qualquer\",\"Meu\"))# Substitui palavras por outras\n",
    "print(minha_variavel.index(\"texto\"))# Retorna o indíce da palavra no texto\n",
    "\n",
    "\n"
   ]
  },
  {
   "cell_type": "markdown",
   "metadata": {},
   "source": [
    "Operadores Aritíméticos"
   ]
  },
  {
   "cell_type": "code",
   "execution_count": 1,
   "metadata": {},
   "outputs": [
    {
     "name": "stdout",
     "output_type": "stream",
     "text": [
      "12\n",
      "8\n",
      "20\n",
      "5.0\n",
      "0\n",
      "27\n",
      "3\n",
      "80\n",
      "15\n",
      "27\n",
      "89\n",
      "1\n",
      "8\n",
      "8\n",
      "9\n",
      "3.0\n"
     ]
    },
    {
     "data": {
      "text/plain": [
       "''"
      ]
     },
     "execution_count": 1,
     "metadata": {},
     "output_type": "execute_result"
    }
   ],
   "source": [
    "a = 10\n",
    "b = 2\n",
    "\n",
    "print(a+b)\n",
    "print(a-b)\n",
    "print(a*b)\n",
    "print(a/b)#Divisão normal(mas retorna como ponto flutuante, Ex: 12.11111111)\n",
    "print(a%b)#Opedor 'Mod' --> resto da divisão\n",
    "print(3**3)#Exponenciação(Potenciação)\n",
    "print(10 // 3)#Divisão normal que trás o resultado como inteiro, Ex: 12\n",
    "print((3 + 5) * (7+ 3)) \n",
    "\n",
    "#-------------------------------------------------#\n",
    "                     #Funções\n",
    "import math #Usei para trazer os arrendodamentos depois do round                    \n",
    "\n",
    "print(abs(-15))# Retorna o valor absoluto\n",
    "print(pow(3,3))# Retorna a potenciação\n",
    "print(max(1,67,89))# Retorna o maior valor\n",
    "print(min(1,43,52,5232))# Retorna o menor valor\n",
    "print(round(8.3))# Arredondamento com base na aproximação         \n",
    "print(math.floor(8.8))# Arredondamento para baixo\n",
    "print(math.ceil(8.01))# Arredondamento para cima\n",
    "print(math.sqrt(9))# Raiz Quadrada, sempre retorna em float\n",
    "input(\"Digite seu nome:\")"
   ]
  }
 ],
 "metadata": {
  "kernelspec": {
   "display_name": "Python 3",
   "language": "python",
   "name": "python3"
  },
  "language_info": {
   "codemirror_mode": {
    "name": "ipython",
    "version": 3
   },
   "file_extension": ".py",
   "mimetype": "text/x-python",
   "name": "python",
   "nbconvert_exporter": "python",
   "pygments_lexer": "ipython3",
   "version": "3.12.2"
  }
 },
 "nbformat": 4,
 "nbformat_minor": 2
}
